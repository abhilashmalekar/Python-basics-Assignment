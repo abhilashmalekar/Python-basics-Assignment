{
  "nbformat": 4,
  "nbformat_minor": 0,
  "metadata": {
    "colab": {
      "provenance": []
    },
    "kernelspec": {
      "name": "python3",
      "display_name": "Python 3"
    },
    "language_info": {
      "name": "python"
    }
  },
  "cells": [
    {
      "cell_type": "markdown",
      "source": [
        "# Python basics Assignment: Theory Questions & Answers\n",
        "\n"
      ],
      "metadata": {
        "id": "12skddP8v9uG"
      }
    },
    {
      "cell_type": "markdown",
      "source": [
        "\n",
        "1. What is Python, and why is it popular?\n",
        "- Python is a high-level, interpreted programming language known for its simplicity and readability. It is widely used in web development, data analysis, machine learning, automation, and more.\n",
        "\n",
        "- Reasons for its popularity include:\n",
        "\n",
        "- Simple and readable syntax\n",
        "\n",
        "- Large collection of libraries and frameworks\n",
        "\n",
        "- Cross-platform compatibility\n",
        "\n",
        "- Strong community support\n",
        "\n",
        "- Versatility in various domains\n",
        "\n",
        "2. What is an interpreter in Python?\n",
        "- An interpreter is a program that executes code line-by-line. In Python, the interpreter reads the source code, translates it into machine language, and executes it immediately. This allows for easier debugging and interactive development.\n",
        "\n",
        "3. What are pre-defined keywords in Python?\n",
        "- Pre-defined keywords are reserved words that have special meanings in Python. They are used to define the syntax and structure of the Python language. Examples include if, for, while, def, class, True, and None.\n",
        "\n",
        "4. Can keywords be used as variable names?\n",
        "- No, keywords cannot be used as variable names in Python. Doing so results in a SyntaxError because keywords are reserved for specific language functionality.\n",
        "\n",
        "5. What is mutability in Python?\n",
        "- Mutability refers to the ability of an object to be changed after it is created.\n",
        "\n",
        "- Mutable objects can be modified (e.g., list, dict).\n",
        "\n",
        "- Immutable objects cannot be modified (e.g., tuple, str, int).\n",
        "\n",
        "6. Why are lists mutable, but tuples are immutable?\n",
        "- Lists are designed to store dynamic collections of items, allowing changes such as appending, removing, or modifying elements. Tuples, on the other hand, are fixed and intended to represent constant collections, making them immutable to ensure data integrity.\n",
        "\n",
        "7. What is the difference between == and is operators in Python?\n",
        "- == checks for value equality, meaning whether two variables have the same content. is checks for identity, meaning whether two variables refer to the same object in memory.\n",
        "\n",
        "8. What are logical operators in Python?\n",
        "- Logical operators are used to combine conditional expressions:\n",
        "\n",
        "- and: True if both conditions are true\n",
        "\n",
        "- or: True if at least one condition is true\n",
        "\n",
        "- not: Reverses the logical value\n",
        "\n",
        "9. What is type casting in Python?\n",
        "- Type casting is the process of converting a value from one data type to another, such as from string to integer or float using functions like int(), float(), and str().\n",
        "\n",
        "10. What is the difference between implicit and explicit type casting?\n",
        "- Implicit casting is done automatically by Python when needed (e.g., int to float).\n",
        "\n",
        "- Explicit casting is done manually by the programmer using casting functions (e.g., int(\"5\"), float(\"2.3\")).\n",
        "\n",
        "11. What is the purpose of conditional statements in Python?\n",
        "- Conditional statements (if, elif, else) control the flow of the program based on conditions. They allow the program to make decisions and execute different blocks of code accordingly.\n",
        "\n",
        "12. How does the elif statement work?\n",
        "- The elif (short for \"else if\") statement allows checking multiple conditions after the initial if. Only the first true condition block is executed.\n",
        "\n",
        "13. What is the difference between for and while loops?\n",
        "- for loop: Iterates over a sequence (like a list or range) for a fixed number of times.\n",
        "\n",
        "- while loop: Repeats as long as a specified condition is True, making it better for indefinite loops.\n",
        "\n",
        "14. Describe a scenario where a while loop is more suitable than a for loop.\n",
        "- A while loop is more suitable when the number of iterations is not known in advance.\n",
        "Example: Prompting a user to enter a password until they get it right:"
      ],
      "metadata": {
        "id": "3GcE-rusj9Du"
      }
    },
    {
      "cell_type": "markdown",
      "source": [
        "# Python basics Assignment: practical Questions & Answers\n",
        "\n"
      ],
      "metadata": {
        "id": "jAnKoh6vvadR"
      }
    },
    {
      "cell_type": "code",
      "source": [
        "# 1. Write a Python program to print \"Hello, World!\"\n",
        "print(\"Hello, World!\")\n"
      ],
      "metadata": {
        "colab": {
          "base_uri": "https://localhost:8080/"
        },
        "id": "3j4ehsxMmwl9",
        "outputId": "2824c1cc-14ca-4d3d-fc5e-6868235e6876"
      },
      "execution_count": 1,
      "outputs": [
        {
          "output_type": "stream",
          "name": "stdout",
          "text": [
            "Hello, World!\n"
          ]
        }
      ]
    },
    {
      "cell_type": "code",
      "source": [
        "# 2. Write a Python program that displays your name and age\n",
        "name = \"Abhilash Malekar\"\n",
        "age = 24\n",
        "print(\"Name:\", name)\n",
        "print(\"Age:\", age)\n"
      ],
      "metadata": {
        "colab": {
          "base_uri": "https://localhost:8080/"
        },
        "id": "P64SuzAJnWLA",
        "outputId": "d04dec28-70fd-4b6f-d98e-b5b56811c87f"
      },
      "execution_count": 3,
      "outputs": [
        {
          "output_type": "stream",
          "name": "stdout",
          "text": [
            "Name: Abhilash Malekar\n",
            "Age: 24\n"
          ]
        }
      ]
    },
    {
      "cell_type": "code",
      "source": [
        "# 3. Write code to print all the pre-defined keywords in Python using the keyword library\n",
        "import keyword\n",
        "print(\"Python Keywords:\")\n",
        "print(keyword.kwlist)\n"
      ],
      "metadata": {
        "colab": {
          "base_uri": "https://localhost:8080/"
        },
        "id": "NBDZdunwn8Nw",
        "outputId": "84e2b10a-ea6c-417a-8198-e480b038c540"
      },
      "execution_count": 4,
      "outputs": [
        {
          "output_type": "stream",
          "name": "stdout",
          "text": [
            "Python Keywords:\n",
            "['False', 'None', 'True', 'and', 'as', 'assert', 'async', 'await', 'break', 'class', 'continue', 'def', 'del', 'elif', 'else', 'except', 'finally', 'for', 'from', 'global', 'if', 'import', 'in', 'is', 'lambda', 'nonlocal', 'not', 'or', 'pass', 'raise', 'return', 'try', 'while', 'with', 'yield']\n"
          ]
        }
      ]
    },
    {
      "cell_type": "code",
      "source": [
        "# 4. Write a program that checks if a given word is a Python keyword\n",
        "import keyword\n",
        "\n",
        "word = input(\"Enter a word: \")\n",
        "if keyword.iskeyword(word):\n",
        "    print(f\"'{word}' is a Python keyword.\")\n",
        "else:\n",
        "    print(f\"'{word}' is not a Python keyword.\")\n"
      ],
      "metadata": {
        "colab": {
          "base_uri": "https://localhost:8080/"
        },
        "id": "Jjsj7oo7o4SW",
        "outputId": "319d9043-26be-41e1-df46-61fc0b42e5fa"
      },
      "execution_count": 5,
      "outputs": [
        {
          "output_type": "stream",
          "name": "stdout",
          "text": [
            "Enter a word: else\n",
            "'else' is a Python keyword.\n"
          ]
        }
      ]
    },
    {
      "cell_type": "code",
      "source": [
        "# 5. Create a list and tuple in Python, and demonstrate how attempting to change\n",
        "# an element works differently for each\n",
        "my_list = [1, 2, 3]\n",
        "my_tuple = (1, 2, 3)\n",
        "\n",
        "# Modify list\n",
        "my_list[0] = 100\n",
        "print(\"Modified list:\", my_list)\n",
        "\n",
        "# Try modifying tuple\n",
        "try:\n",
        "    my_tuple[0] = 100\n",
        "except TypeError as e:\n",
        "    print(\"Error modifying tuple:\", e)\n"
      ],
      "metadata": {
        "colab": {
          "base_uri": "https://localhost:8080/"
        },
        "id": "xPS10B8ZpYEw",
        "outputId": "5cb0368f-ec93-4dee-e3eb-aa217ef269f7"
      },
      "execution_count": 6,
      "outputs": [
        {
          "output_type": "stream",
          "name": "stdout",
          "text": [
            "Modified list: [100, 2, 3]\n",
            "Error modifying tuple: 'tuple' object does not support item assignment\n"
          ]
        }
      ]
    },
    {
      "cell_type": "code",
      "source": [
        "# 6. Write a function to demonstrate the behavior of mutable and immutable arguments\n",
        "def test_mutable_immutable(x, y):\n",
        "    x += 1\n",
        "    y.append(99)\n",
        "    print(\"Inside function - x:\", x)\n",
        "    print(\"Inside function - y:\", y)\n",
        "\n",
        "a = 10             # Immutable\n",
        "b = [1, 2, 3]      # Mutable\n",
        "\n",
        "test_mutable_immutable(a, b)\n",
        "print(\"Outside function - a:\", a)\n",
        "print(\"Outside function - b:\", b)\n"
      ],
      "metadata": {
        "colab": {
          "base_uri": "https://localhost:8080/"
        },
        "id": "Oe7S8RepqcDp",
        "outputId": "0c667747-d7a8-45e8-e6b9-6c4c4482ffea"
      },
      "execution_count": 7,
      "outputs": [
        {
          "output_type": "stream",
          "name": "stdout",
          "text": [
            "Inside function - x: 11\n",
            "Inside function - y: [1, 2, 3, 99]\n",
            "Outside function - a: 10\n",
            "Outside function - b: [1, 2, 3, 99]\n"
          ]
        }
      ]
    },
    {
      "cell_type": "code",
      "source": [
        "# 7. Write a program that performs basic arithmetic operations on two user-input numbers\n",
        "a = float(input(\"Enter first number: \"))\n",
        "b = float(input(\"Enter second number: \"))\n",
        "\n",
        "print(\"Addition:\", a + b)\n",
        "print(\"Subtraction:\", a - b)\n",
        "print(\"Multiplication:\", a * b)\n",
        "print(\"Division:\", a / b if b != 0 else \"Cannot divide by zero\")\n"
      ],
      "metadata": {
        "colab": {
          "base_uri": "https://localhost:8080/"
        },
        "id": "vqPGgaFGrGpi",
        "outputId": "679b814e-d3ae-4b3b-cb92-e282143bdda1"
      },
      "execution_count": 8,
      "outputs": [
        {
          "output_type": "stream",
          "name": "stdout",
          "text": [
            "Enter first number: 1\n",
            "Enter second number: 5\n",
            "Addition: 6.0\n",
            "Subtraction: -4.0\n",
            "Multiplication: 5.0\n",
            "Division: 0.2\n"
          ]
        }
      ]
    },
    {
      "cell_type": "code",
      "source": [
        "# 8. Write a program to demonstrate the use of logical operators\n",
        "x = int(input(\"Enter a number: \"))\n",
        "\n",
        "print(\"x > 5 and x < 20:\", x > 5 and x < 20)\n",
        "print(\"x < 0 or x > 100:\", x < 0 or x > 100)\n",
        "print(\"not x == 10:\", not x == 10)\n"
      ],
      "metadata": {
        "colab": {
          "base_uri": "https://localhost:8080/"
        },
        "id": "-06IlNkIr9xd",
        "outputId": "b4c9a6f2-48a2-4a4d-93a8-446ab451cc17"
      },
      "execution_count": 9,
      "outputs": [
        {
          "output_type": "stream",
          "name": "stdout",
          "text": [
            "Enter a number: 10\n",
            "x > 5 and x < 20: True\n",
            "x < 0 or x > 100: False\n",
            "not x == 10: False\n"
          ]
        }
      ]
    },
    {
      "cell_type": "code",
      "source": [
        "# 9. Write a Python program to convert user input from string to integer, float, and boolean types\n",
        "\n",
        "value = input(\"Enter a value: \")\n",
        "\n",
        "int_value = int(value)\n",
        "float_value = float(value)\n",
        "bool_value = bool(value)\n",
        "\n",
        "print(\"Integer:\", int_value)\n",
        "print(\"Float:\", float_value)\n",
        "print(\"Boolean:\", bool_value)\n"
      ],
      "metadata": {
        "colab": {
          "base_uri": "https://localhost:8080/"
        },
        "id": "Mz4vRb-SspCz",
        "outputId": "ec2bad4c-6191-44c7-df14-ce6d21f20a6c"
      },
      "execution_count": 10,
      "outputs": [
        {
          "output_type": "stream",
          "name": "stdout",
          "text": [
            "Enter a value: 5\n",
            "Integer: 5\n",
            "Float: 5.0\n",
            "Boolean: True\n"
          ]
        }
      ]
    },
    {
      "cell_type": "code",
      "source": [
        "# 10. Write code to demonstrate type casting with list elements\n",
        "\n",
        "str_list = [\"10\", \"20\", \"30\"]\n",
        "int_list = [int(i) for i in str_list]\n",
        "\n",
        "print(\"Original list:\", str_list)\n",
        "print(\"Converted to integers:\", int_list)\n"
      ],
      "metadata": {
        "colab": {
          "base_uri": "https://localhost:8080/"
        },
        "id": "O_eKRA7btRdO",
        "outputId": "981a4ac4-0a0c-43dd-d311-7dd498f5338e"
      },
      "execution_count": 13,
      "outputs": [
        {
          "output_type": "stream",
          "name": "stdout",
          "text": [
            "Original list: ['10', '20', '30']\n",
            "Converted to integers: [10, 20, 30]\n"
          ]
        }
      ]
    },
    {
      "cell_type": "code",
      "source": [
        "# 11. Write a program that checks if a number is positive, negative, or zero\n",
        "\n",
        "num = float(input(\"Enter a number: \"))\n",
        "\n",
        "if num > 0:\n",
        "    print(\"Positive\")\n",
        "elif num < 0:\n",
        "    print(\"Negative\")\n",
        "else:\n",
        "    print(\"Zero\")\n"
      ],
      "metadata": {
        "colab": {
          "base_uri": "https://localhost:8080/"
        },
        "id": "N8Rip4HYto13",
        "outputId": "0baed308-e720-4b88-9441-1f8fae125da9"
      },
      "execution_count": 12,
      "outputs": [
        {
          "output_type": "stream",
          "name": "stdout",
          "text": [
            "Enter a number: 10\n",
            "Positive\n"
          ]
        }
      ]
    },
    {
      "cell_type": "code",
      "source": [
        "# 12. Write a for loop to print numbers from 1 to 10\n",
        "for i in range(1, 11):\n",
        "    print(i)\n"
      ],
      "metadata": {
        "colab": {
          "base_uri": "https://localhost:8080/"
        },
        "id": "sAV08xpUtpa7",
        "outputId": "b920c4b1-3d1a-4574-c40f-6560870c40a3"
      },
      "execution_count": 14,
      "outputs": [
        {
          "output_type": "stream",
          "name": "stdout",
          "text": [
            "1\n",
            "2\n",
            "3\n",
            "4\n",
            "5\n",
            "6\n",
            "7\n",
            "8\n",
            "9\n",
            "10\n"
          ]
        }
      ]
    },
    {
      "cell_type": "code",
      "source": [
        "# 13. Write a Python program to find the sum of all even numbers between 1 and 50\n",
        "\n",
        "total = 0\n",
        "for i in range(2, 51, 2):\n",
        "    total += i\n",
        "print(\"Sum of even numbers from 1 to 50:\", total)\n"
      ],
      "metadata": {
        "colab": {
          "base_uri": "https://localhost:8080/"
        },
        "id": "D71BolM7uOYM",
        "outputId": "63ba0d69-04f6-4700-9a03-da4ae1c52720"
      },
      "execution_count": 15,
      "outputs": [
        {
          "output_type": "stream",
          "name": "stdout",
          "text": [
            "Sum of even numbers from 1 to 50: 650\n"
          ]
        }
      ]
    },
    {
      "cell_type": "code",
      "source": [
        "# 14. Write a program to reverse a string using a while loop\n",
        "\n",
        "text = input(\"Enter a string: \")\n",
        "reversed_text = \"\"\n",
        "i = len(text) - 1\n",
        "\n",
        "while i >= 0:\n",
        "    reversed_text += text[i]\n",
        "    i -= 1\n",
        "\n",
        "print(\"Reversed string:\", reversed_text)\n"
      ],
      "metadata": {
        "colab": {
          "base_uri": "https://localhost:8080/"
        },
        "id": "SybYiQ6Juppg",
        "outputId": "53a0168e-6aec-4bdc-b991-a9b3296913b8"
      },
      "execution_count": 16,
      "outputs": [
        {
          "output_type": "stream",
          "name": "stdout",
          "text": [
            "Enter a string: 20\n",
            "Reversed string: 02\n"
          ]
        }
      ]
    },
    {
      "cell_type": "code",
      "source": [
        "# 15. Write a Python program to calculate the factorial of a number using a while loop\n",
        "\n",
        "num = int(input(\"Enter a number: \"))\n",
        "factorial = 1\n",
        "i = 1\n",
        "\n",
        "while i <= num:\n",
        "    factorial *= i\n",
        "    i += 1\n",
        "\n",
        "print(f\"Factorial of {num} is {factorial}\")\n"
      ],
      "metadata": {
        "colab": {
          "base_uri": "https://localhost:8080/"
        },
        "id": "e6xDW1EOvKmF",
        "outputId": "1a8ba982-53af-4ed3-cd79-3dc27831158e"
      },
      "execution_count": 17,
      "outputs": [
        {
          "output_type": "stream",
          "name": "stdout",
          "text": [
            "Enter a number: 10\n",
            "Factorial of 10 is 3628800\n"
          ]
        }
      ]
    }
  ]
}